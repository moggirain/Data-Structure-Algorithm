{
 "cells": [
  {
   "cell_type": "markdown",
   "metadata": {},
   "source": [
    "# Infix, Prefix, Postfix Expressions"
   ]
  },
  {
   "cell_type": "code",
   "execution_count": 14,
   "metadata": {},
   "outputs": [],
   "source": [
    "import string"
   ]
  },
  {
   "cell_type": "code",
   "execution_count": 17,
   "metadata": {},
   "outputs": [
    {
     "data": {
      "text/plain": [
       "'ABCDEFGHIJKLMNOPQRSTUVWXYZ'"
      ]
     },
     "execution_count": 17,
     "metadata": {},
     "output_type": "execute_result"
    }
   ],
   "source": [
    "string.ascii_uppercase"
   ]
  },
  {
   "cell_type": "code",
   "execution_count": 8,
   "metadata": {},
   "outputs": [],
   "source": [
    "class Stack:\n",
    "    def __init__(self):\n",
    "        self.items = []  # data structure\n",
    "        \n",
    "    def is_empty(self):\n",
    "        return self.items == []\n",
    "    \n",
    "    def push(self, item):\n",
    "        self.items.append(item)\n",
    "        \n",
    "    def pop(self):\n",
    "        if self.is_empty():\n",
    "            raise IndexError(\"Pop from an empty stack\")\n",
    "        return self.items.pop()\n",
    "        \n",
    "    def peek(self):\n",
    "        return self.items[-1]\n",
    "    \n",
    "    def size(self):\n",
    "        return len(self.items)"
   ]
  },
  {
   "cell_type": "code",
   "execution_count": 51,
   "metadata": {},
   "outputs": [],
   "source": [
    "def infix_to_postfix(infixexpr):\n",
    "    op_stack = Stack()\n",
    "    postfix_list = []\n",
    "    token_list = infixexpr.split()\n",
    "    \n",
    "    for token in token_list:\n",
    "        if token in string.ascii_uppercase:  # operands\n",
    "            #print(token)\n",
    "            postfix_list.append(token)\n",
    "        elif token == \"(\": # Begins handling parenthensize expressions\n",
    "            #print(token)\n",
    "            op_stack.push(token)\n",
    "        elif token == \")\": # Ends handling paren. expressions\n",
    "            #print(op_stack.items)\n",
    "            top_token = op_stack.pop()\n",
    "            while top_token != \"(\":\n",
    "                #print(op_stack.items)\n",
    "                postfix_list.append(top_token)\n",
    "                top_token = op_stack.pop()   \n",
    "        else:  # operators\n",
    "            if not op_stack.is_empty() and op_stack.peek() != \"(\":\n",
    "                postfix_list.append(op_stack.pop())            \n",
    "            op_stack.push(token)\n",
    "            \n",
    "    while not op_stack.is_empty():\n",
    "        postfix_list.append(op_stack.pop())\n",
    "            \n",
    "    return \" \".join(postfix_list)"
   ]
  },
  {
   "cell_type": "code",
   "execution_count": 56,
   "metadata": {},
   "outputs": [
    {
     "name": "stdout",
     "output_type": "stream",
     "text": [
      "* ['A']\n",
      "+ ['A', 'B', '*']\n",
      "* ['A', 'B', '*', 'C']\n"
     ]
    },
    {
     "data": {
      "text/plain": [
       "'A B * C D * +'"
      ]
     },
     "execution_count": 56,
     "metadata": {},
     "output_type": "execute_result"
    }
   ],
   "source": [
    "infix_to_postfix(\"( A * B ) + ( C * D )\")"
   ]
  },
  {
   "cell_type": "code",
   "execution_count": 53,
   "metadata": {},
   "outputs": [
    {
     "name": "stdout",
     "output_type": "stream",
     "text": [
      "* ['A']\n",
      "+ ['A', 'B']\n",
      "- ['A', 'B', 'C', '+', '*']\n"
     ]
    },
    {
     "data": {
      "text/plain": [
       "'A B C + * D -'"
      ]
     },
     "execution_count": 53,
     "metadata": {},
     "output_type": "execute_result"
    }
   ],
   "source": [
    "infix_to_postfix(\"A * ( B + C ) - D\")"
   ]
  },
  {
   "cell_type": "code",
   "execution_count": 54,
   "metadata": {},
   "outputs": [
    {
     "data": {
      "text/plain": [
       "'A B * C +'"
      ]
     },
     "execution_count": 54,
     "metadata": {},
     "output_type": "execute_result"
    }
   ],
   "source": [
    "\" \".join(['A', 'B', '*', 'C', '+'])"
   ]
  },
  {
   "cell_type": "code",
   "execution_count": null,
   "metadata": {},
   "outputs": [],
   "source": []
  }
 ],
 "metadata": {
  "kernelspec": {
   "display_name": "Python 3",
   "language": "python",
   "name": "python3"
  },
  "language_info": {
   "codemirror_mode": {
    "name": "ipython",
    "version": 3
   },
   "file_extension": ".py",
   "mimetype": "text/x-python",
   "name": "python",
   "nbconvert_exporter": "python",
   "pygments_lexer": "ipython3",
   "version": "3.6.5"
  }
 },
 "nbformat": 4,
 "nbformat_minor": 2
}
