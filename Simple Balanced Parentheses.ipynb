{
 "cells": [
  {
   "cell_type": "code",
   "execution_count": 1,
   "metadata": {},
   "outputs": [],
   "source": [
    "class Stack:\n",
    "    def __init__(self):\n",
    "        self.items = []  # data structure\n",
    "        \n",
    "    def is_empty(self):\n",
    "        return self.items == []\n",
    "    \n",
    "    def push(self, item):\n",
    "        self.items.append(item)\n",
    "        \n",
    "    def pop(self):\n",
    "        if self.is_empty():\n",
    "            raise IndexError(\"Pop from an empty stack\")\n",
    "            \n",
    "        #item = self.items[-1]\n",
    "        #del self.items[-1]\n",
    "        #return item\n",
    "        return self.items.pop()\n",
    "        \n",
    "    def peek(self):\n",
    "        return self.items[-1]\n",
    "    \n",
    "    def size(self):\n",
    "        return len(self.items)"
   ]
  },
  {
   "cell_type": "code",
   "execution_count": 13,
   "metadata": {},
   "outputs": [],
   "source": [
    "def par_checker(symbol_str):\n",
    "    s = Stack()\n",
    "    balanced = True\n",
    "    index = 0\n",
    "    \n",
    "    while index < len(symbol_str) and balanced:\n",
    "        symbol = symbol_str[index]\n",
    "        if symbol == '(':\n",
    "            s.push(symbol)\n",
    "        else:\n",
    "            if s.is_empty():\n",
    "                balanced = False\n",
    "            else:\n",
    "                s.pop()\n",
    "        print(balanced, symbol, s.items)\n",
    "        index += 1\n",
    "    \n",
    "    return balanced and s.is_empty()      "
   ]
  },
  {
   "cell_type": "code",
   "execution_count": 14,
   "metadata": {},
   "outputs": [
    {
     "name": "stdout",
     "output_type": "stream",
     "text": [
      "True ( ['(']\n",
      "True ( ['(', '(']\n",
      "True ( ['(', '(', '(']\n",
      "True ) ['(', '(']\n",
      "True ) ['(']\n",
      "True ) []\n",
      "True\n",
      "True ( ['(']\n",
      "True ( ['(', '(']\n",
      "True ) ['(']\n",
      "False\n",
      "True ( ['(']\n",
      "True ( ['(', '(']\n",
      "True ( ['(', '(', '(']\n",
      "True ( ['(', '(', '(', '(']\n",
      "True ) ['(', '(', '(']\n",
      "True ) ['(', '(']\n",
      "True ) ['(']\n",
      "False\n",
      "True ( ['(']\n",
      "True ( ['(', '(']\n",
      "True ) ['(']\n",
      "True ( ['(', '(']\n",
      "True ) ['(']\n",
      "True ) []\n",
      "False ) []\n",
      "False\n"
     ]
    }
   ],
   "source": [
    "print(par_checker('((()))'))\n",
    "print(par_checker('(()'))\n",
    "print(par_checker('(((()))'))\n",
    "print(par_checker('(()()))'))"
   ]
  },
  {
   "cell_type": "code",
   "execution_count": null,
   "metadata": {},
   "outputs": [],
   "source": []
  }
 ],
 "metadata": {
  "kernelspec": {
   "display_name": "Python 3",
   "language": "python",
   "name": "python3"
  },
  "language_info": {
   "codemirror_mode": {
    "name": "ipython",
    "version": 3
   },
   "file_extension": ".py",
   "mimetype": "text/x-python",
   "name": "python",
   "nbconvert_exporter": "python",
   "pygments_lexer": "ipython3",
   "version": "3.6.5"
  }
 },
 "nbformat": 4,
 "nbformat_minor": 2
}
